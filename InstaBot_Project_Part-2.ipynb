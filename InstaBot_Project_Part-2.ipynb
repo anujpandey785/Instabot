{
 "cells": [
  {
   "cell_type": "markdown",
   "metadata": {},
   "source": [
    "# InstaBot - Part 2"
   ]
  },
  {
   "cell_type": "code",
   "execution_count": 150,
   "metadata": {},
   "outputs": [],
   "source": [
    "from selenium import webdriver\n",
    "from selenium.webdriver.support import expected_conditions as EC\n",
    "from selenium.webdriver.support.ui import WebDriverWait\n",
    "from selenium.webdriver.common.by import By\n",
    "from selenium.common.exceptions import TimeoutException\n",
    "from bs4 import BeautifulSoup\n",
    "from collections import OrderedDict \n",
    "import time\n",
    "from datetime import datetime, timedelta\n",
    "\n",
    "import pandas as pd\n",
    "import numpy as np\n",
    "import matplotlib.pyplot as plt"
   ]
  },
  {
   "cell_type": "code",
   "execution_count": 151,
   "metadata": {},
   "outputs": [],
   "source": [
    "#opening the browser, change the path as per location of chromedriver in your system\n",
    "driver = webdriver.Chrome()\n",
    "driver.maximize_window()"
   ]
  },
  {
   "cell_type": "code",
   "execution_count": 152,
   "metadata": {},
   "outputs": [],
   "source": [
    "#opening instagram\n",
    "driver.get('https://www.instagram.com/')"
   ]
  },
  {
   "cell_type": "code",
   "execution_count": 153,
   "metadata": {},
   "outputs": [],
   "source": [
    "#update your username and password here\n",
    "username = 'SAMPLE_USERNAME'\n",
    "password = 'SAMPLE_PASSWORD'"
   ]
  },
  {
   "cell_type": "code",
   "execution_count": 154,
   "metadata": {},
   "outputs": [],
   "source": [
    "#initializing  wait object\n",
    "wait = WebDriverWait(driver, 10)"
   ]
  },
  {
   "cell_type": "code",
   "execution_count": 155,
   "metadata": {},
   "outputs": [],
   "source": [
    "def LogIn(username, password):\n",
    "    try :\n",
    "        user_name = driver.find_element_by_name('username')\n",
    "        user_name.send_keys(username)\n",
    "        #locating password box and sending password\n",
    "        pwd = driver.find_element_by_name('password')\n",
    "        pwd.send_keys(password)\n",
    "        #locating login button \n",
    "        button = wait.until(EC.presence_of_element_located((By.XPATH,'//div[contains(@class, \"Igw0E\")]//button[contains(@class, \"sqdOP\")]')))\n",
    "        button.submit()\n",
    "        #Save Your Login Info? : Not Now\n",
    "        pop = wait.until(EC.presence_of_element_located((By.XPATH,'//div[contains(@class, \"cmbtv\")]//button[contains(@class, \"sqdOP\")]')))\n",
    "        pop.click()\n",
    "        #Turn on Notifications :Not Now\n",
    "        pop1 = wait.until(EC.presence_of_element_located((By.XPATH,'//div[contains(@class, \"mt3GC\")]//button[contains(@class, \"aOOlW\")]')))\n",
    "        pop1.click()\n",
    "    except TimeoutException :\n",
    "        print (\"Something went wrong! Try Again\")"
   ]
  },
  {
   "cell_type": "code",
   "execution_count": 156,
   "metadata": {},
   "outputs": [],
   "source": [
    "#Login to your Instagram Handle\n",
    "LogIn(username, password)"
   ]
  },
  {
   "cell_type": "code",
   "execution_count": 157,
   "metadata": {},
   "outputs": [],
   "source": [
    "##search_open_profile() function is same as part-I. All the functionality is same as before.\n",
    "def search_open_profile(s):\n",
    "    try:\n",
    "        #locatong search box bar and sending text \n",
    "        search_box = wait.until(EC.presence_of_element_located((By.CLASS_NAME,'XTCLo')))\n",
    "        search_box.send_keys(s)\n",
    "        #locating serched result\n",
    "        res = wait.until(EC.presence_of_element_located((By.CLASS_NAME,'-qQT3')))\n",
    "        res.click()           \n",
    "\n",
    "        time.sleep(5)\n",
    "        #driver.back()\n",
    "    \n",
    "    except TimeoutException :\n",
    "        print('No Search Found!')\n",
    "    "
   ]
  },
  {
   "cell_type": "markdown",
   "metadata": {},
   "source": [
    "### Problem 1 : Analyse the habits of bloggers\n",
    "Now your friend has followed a lot of different food bloggers, he needs to analyse the habits of these bloggers.    \n",
    "1.From the list of instagram handles you obtained when you searched ‘food’ in previous project. Open the first 10 handles and find the top 5 which have the highest number of followers  \n",
    "2.Now Find the number of posts these handles have done in the previous 3 days.  \n",
    "3.Depict this information using a suitable graph.  "
   ]
  },
  {
   "cell_type": "markdown",
   "metadata": {},
   "source": [
    "##### 1.From the list of instagram handles you obtained when you searched ‘food’ in previous project. Open the first 10 handles and find the top 5 which have the highest number of followers"
   ]
  },
  {
   "cell_type": "code",
   "execution_count": 158,
   "metadata": {},
   "outputs": [],
   "source": [
    "#First 10 handles from part-1\n",
    "first_10_handles = ['foodtalkindia','foodzeee','foodie_incarnate','food_lunatic','dilsefoodie','foodofgoa','food',\n",
    "                    'vibrantshades009','yourfoodlab','foodiesdelhite']"
   ]
  },
  {
   "cell_type": "code",
   "execution_count": 159,
   "metadata": {},
   "outputs": [],
   "source": [
    "#function for getting top 5 handle which have highest number of followers\n",
    "def top_5_handles(lst):\n",
    "    try:\n",
    "        #dct contains username with number of followers\n",
    "        dct = {}\n",
    "        for i in lst :\n",
    "            #This fuction will search a user and open that profile\n",
    "            search_open_profile(i)\n",
    "            time.sleep(2)\n",
    "            #locating followers of user\n",
    "            followers = wait.until(EC.presence_of_all_elements_located((By.CLASS_NAME,'g47SY')))[1]\n",
    "            #replacing ',' with '' and converted into int\n",
    "            dct[i] = int(followers.get_attribute('title').replace(',' , ''))\n",
    "        #top 5 most followed user\n",
    "        count = 0\n",
    "        res = OrderedDict()\n",
    "        for i in sorted(dct, key=dct.get, reverse=True):\n",
    "            res[i] = dct[i]\n",
    "            count += 1\n",
    "            if(count >= 5) : \n",
    "                break\n",
    "                \n",
    "        return res\n",
    "    except TimeoutException :\n",
    "        print (\"Something went wrong! Try Again\")"
   ]
  },
  {
   "cell_type": "code",
   "execution_count": null,
   "metadata": {},
   "outputs": [],
   "source": [
    "top_handles = top_5_handles(first_10_handles)"
   ]
  },
  {
   "cell_type": "code",
   "execution_count": 18,
   "metadata": {},
   "outputs": [
    {
     "name": "stdout",
     "output_type": "stream",
     "text": [
      "Top 5 instagram handles which have the highest number of followers :\n",
      "yourfoodlab  ----  1759295\n",
      "dilsefoodie  ----  814862\n",
      "foodzeee  ----  789024\n",
      "foodie_incarnate  ----  648376\n",
      "foodtalkindia  ----  305962\n"
     ]
    }
   ],
   "source": [
    "print('Top 5 instagram handles which have the highest number of followers :')\n",
    "for uname in top_handles:\n",
    "    print(uname,' ---- ',top_handles[uname])"
   ]
  },
  {
   "cell_type": "markdown",
   "metadata": {},
   "source": [
    "##### 2.Now Find the number of posts these handles have done in the previous 3 days."
   ]
  },
  {
   "cell_type": "code",
   "execution_count": 19,
   "metadata": {},
   "outputs": [],
   "source": [
    "#this function returns number of post posted by user in n days\n",
    "def count_of_post(day):\n",
    "    try :\n",
    "        #locating first post\n",
    "        post = wait.until(EC.presence_of_element_located((By.CLASS_NAME,'v1Nh3')))\n",
    "        post.click()\n",
    "        \n",
    "        count = 0 \n",
    "        while True :\n",
    "            #getting date of the the post\n",
    "            temp = wait.until(EC.presence_of_element_located((By.CLASS_NAME,'_1o9PC')))\n",
    "            #getting date in string format\n",
    "            date_string = temp.get_attribute('datetime')\n",
    "            #converting into date format\n",
    "            date = datetime.strptime(date_string[0:19], \"%Y-%m-%dT%H:%M:%S\")\n",
    "            #taking differnce between today's date and post posted date\n",
    "            if (datetime.now() - date).days > day :\n",
    "                break\n",
    "            else :\n",
    "                count += 1\n",
    "            #locating next button\n",
    "            next_but = wait.until(EC.presence_of_element_located((By.CLASS_NAME,'_65Bje')))\n",
    "            next_but.click()\n",
    "        #closing the post\n",
    "        close=driver.find_element_by_xpath(\"//div[contains(@class, 'Igw0E')]//button[contains(@class, 'wpO6b')]\")\n",
    "        close.click()\n",
    "        return count\n",
    "    \n",
    "    except TimeoutException :\n",
    "        print (\"Something went wrong! Try Again\")"
   ]
  },
  {
   "cell_type": "code",
   "execution_count": 20,
   "metadata": {},
   "outputs": [],
   "source": [
    "total_post_count = {}\n",
    "for i in top_handles :\n",
    "    search_open_profile(i)\n",
    "    time.sleep(2)\n",
    "    count = count_of_post(3)\n",
    "    total_post_count[i] = count"
   ]
  },
  {
   "cell_type": "code",
   "execution_count": 21,
   "metadata": {},
   "outputs": [
    {
     "name": "stdout",
     "output_type": "stream",
     "text": [
      "Number of posts these handles have done in the previous 3 days : -\n",
      "yourfoodlab 2\n",
      "dilsefoodie 7\n",
      "foodzeee 3\n",
      "foodie_incarnate 6\n",
      "foodtalkindia 6\n"
     ]
    }
   ],
   "source": [
    "print('Number of posts these handles have done in the previous 3 days : -')\n",
    "for i in total_post_count:\n",
    "    print(i,total_post_count[i])"
   ]
  },
  {
   "cell_type": "markdown",
   "metadata": {},
   "source": [
    "##### 3.Depict this information using a suitable graph."
   ]
  },
  {
   "cell_type": "code",
   "execution_count": 22,
   "metadata": {},
   "outputs": [
    {
     "data": {
      "image/png": "[encoded data removed]",
      "text/plain": [
       "<Figure size 432x288 with 1 Axes>"
      ]
     },
     "metadata": {
      "needs_background": "light"
     },
     "output_type": "display_data"
    }
   ],
   "source": [
    "# using total_post_count to get username and number of post\n",
    "x = total_post_count.keys()\n",
    "y = total_post_count.values()\n",
    "plt.bar(x,y,color='g',alpha=0.6)\n",
    "plt.ylabel(\"Number of posts in the previous 3 days\",size=10)\n",
    "plt.xlabel(\"Username\",size=10)\n",
    "plt.title('Most Followed user vs Number of recent posts ',fontsize=20, color='green',alpha=0.8)\n",
    "plt.grid()\n",
    "plt.show()"
   ]
  },
  {
   "cell_type": "markdown",
   "metadata": {},
   "source": [
    "### Problem 2 : List of hashtags\n",
    "Your friend also needs a list of hashtags that he should use in his posts.  \n",
    "1.Open the 5 handles you obtained in the last question, and scrape the content of the first 10 posts of each handle.  \n",
    "2.Prepare a list of all words used in all the scraped posts and calculate the frequency of each word.  \n",
    "3.Create a csv file with two columns : the word and its frequency  \n",
    "4.Now, find the hashtags that were most popular among these bloggers  \n",
    "5.Plot a Pie Chart of the top 5 hashtags obtained and the number of times they were used by these bloggers in the scraped posts.  "
   ]
  },
  {
   "cell_type": "code",
   "execution_count": 23,
   "metadata": {},
   "outputs": [],
   "source": [
    "def extract_content(lst):\n",
    "    try :\n",
    "        hashtags_list = []\n",
    "        for user in lst:\n",
    "            #This fuction will search a user and open that profile\n",
    "            search_open_profile(user)\n",
    "            time.sleep(2)\n",
    "            #just for scrolling to getting post\n",
    "            driver.execute_script('window.scrollTo(0, 3000);')\n",
    "            time.sleep(2)\n",
    "            driver.execute_script('window.scrollTo(0, -3000);')\n",
    "            time.sleep(2)\n",
    "            #locating the post of the user\n",
    "            posts = driver.find_elements_by_class_name('v1Nh3')\n",
    "            for post in posts[:10]:\n",
    "                post.click()\n",
    "                time.sleep(2)\n",
    "                #locating all hashtag used in this post\n",
    "                hashtags=driver.find_elements_by_class_name(\"xil3i\")\n",
    "                for hashtag in hashtags:\n",
    "                    #appending in list\n",
    "                    hashtags_list.append(hashtag.text)  \n",
    "                \n",
    "                #locating close button and clicking on it\n",
    "                close=driver.find_element_by_xpath(\"//div[contains(@class, 'Igw0E')]//button[contains(@class, 'wpO6b')]\")\n",
    "                time.sleep(1)\n",
    "                close.click()\n",
    "        return hashtags_list\n",
    "    \n",
    "    except TimeoutException :\n",
    "        print (\"Something went wrong! Try Again\")\n",
    "        \n",
    "    "
   ]
  },
  {
   "cell_type": "code",
   "execution_count": 24,
   "metadata": {},
   "outputs": [],
   "source": [
    "handles = list(total_post_count.keys())\n",
    "hashtags = extract_content(handles)"
   ]
  },
  {
   "cell_type": "code",
   "execution_count": 25,
   "metadata": {},
   "outputs": [
    {
     "name": "stdout",
     "output_type": "stream",
     "text": [
      "['#recipe', '#foodporn', '#paratha', '#indianfood', '#streetfoodindia', '#quesadilla', '#quesadillas', '#foodie', '#foodpics', '#mumbaistreetfood', '#streetfood', '#streetfoodindia', '#sanjyotkeer', '#yourfoodlab', '#recipe', '#chaat', '#aloo', '#aloorecipes', '#chaatlover', '#chaatlove', '#streetfood', '#indianstreetfood', '#foodporn', '#recipes', '#inovation', '#atombomb', '#streetphotography', '#sanjyotkeer', '#yourfoodlab', '#recipe', '#chaat', '#aloo', '#aloorecipes', '#chaatlover', '#chaatlove', '#streetfood', '#indianstreetfood', '#foodporn', '#recipes', '#inovation', '#atombomb', '#streetphotography', '#sanjyotkeer', '#yourfoodlab', '#recipe', '#foodie', '#indiancuisine', '#streetfood', '#wrap', '#foodporn', '#roll', '#paneer', '#paneerrecipes', '#paneerlover', '#paneerroll', '#sanjyotkeer', '#yourfoodlab', '#indianfood', '#instadaily', '#recipe', '#foodie', '#indiancuisine', '#streetfood', '#wrap', '#foodporn', '#roll', '#paneer', '#paneerrecipes', '#paneerlover', '#paneerroll', '#sanjyotkeer', '#yourfoodlab', '#indianfood', '#instadaily', '#recipe', '#mexicanfood', '#mexicanrice', '#mexicancuisine', '#mexicanfoodporn', '#foodphotography', '#foodporn', '#streetfoodindia', '#foodpics', '#streetfoodmumbai', '#food', '#foodstagram', '#indiaclicks', '#sanjyotkeer', '#yourfoodlab', '#crispy', '#corn', '#sweetcorn', '#cornrecipe', '#foodporn', '#indiancuisine', '#streetfood', '#homemade', '#streetfoodindia', '#foodpics', '#streetfoodlover', '#sanjyotkeer', '#yourfoodlab', '#crispy', '#corn', '#sweetcorn', '#cornrecipe', '#foodporn', '#indiancuisine', '#streetfood', '#homemade', '#streetfoodindia', '#foodpics', '#streetfoodlover', '#sanjyotkeer', '#yourfoodlab', '#recipeoftheday', '#indiancuisine', '#foodiesofinstagram', '#paneer', '#paneertikka', '#paneertikkamasala', '#paneerrecipes', '#homemade', '#resturant', '#restuarantstyle', '#foodpics', '#sanjyotkeer', '#yourfoodlab', '#instadaily', '#noonionnogarlic', '#recipeoftheday', '#indiancuisine', '#foodiesofinstagram', '#paneer', '#paneertikka', '#paneertikkamasala', '#paneerrecipes', '#homemade', '#resturant', '#restuarantstyle', '#foodpics', '#sanjyotkeer', '#yourfoodlab', '#instadaily', '#noonionnogarlic', '#dilsefoodie', '#dilsecouple', '#dilsefoodie', '#dilsefoodie', '#dilsefoodie', '#dilsefoodie', '#dilsefoodie', '#dilsefoodie', '#DilSeFoodieDaVyah', '#foodzeee', '#kadhi', '#boondikadhi', '#shershaah', '#reelsinstagram', '#reelkarofeelkaro', '#reelitfeelit', '#foodzeee', '#foodzeee', '#ulundhusadham', '#meal', '#recipe', '#reelkarofeelkaro', '#reelitfeelit', '#reelsinstagram', '#foodzeee', '#foodzeee', '#neiappam', '#appam', '#onam', '#unniappam', '#recipe', '#reelitfeelit', '#reelkarofeelkaro', '#foodzeee', '', '#palakpaneer', '#paneer', '#recipe', '#foodzeee', '', '#jewellery', '#antique', '#jhumkas', '#jadaujewellery', '#foodzeee', '', '#chai', '#tandoorichai', '#tea', '#tandooritea', '#reelkarofeelkaro', '#reelitfeelit', '#foodzeee', '', '#cake', '#egglesscake', '#tumblercake', '#reelitfeelit', '#reelkarofeelkaro', '#reels', '#foodzeee', '', '#thogayal', '#rice', '#reelitfeelit', '#reels', '#foodzeee', '', '', '#bassaru', '#palya', '#recipe', '#foodzeee', '#foodieincarnate', '#sodelhi', '#newdelhi', '#foodtalkindia', '#delhigram', '#indianfood', '#delhifoodblogger', '#foodgasm', '#foodporn', '#foodpornshare', '#foodlover', '#foodgram', '#foodiesofinstagram', '#foodie', '#indianstreetfood', '#streetfood', '#delhistreetfood', '#streetfoodindia', '#mumbaistreetfood', '#delhifoodie', '#foodblogger', '#indianfoodie', '#desikhana', '#indianfoodblogger', '#indianfoodbloggers', '#delhifood', '#mumbai', '#delhi', '#surat', '#khaja', '#foodieincarnate', '#reelitfeelit', '#reelkarofeelkaro', '#reelsinstagram', '#reels', '#streetfood', '#butter', '#burger', '#ghaziabad', '#delhi', '#foodieincarnate', '#sodelhi', '#newdelhi', '#foodtalkindia', '#delhigram', '#indianfood', '#dosa', '#dose', '#southindian', '#southindianfood', '#nammabangalore', '#nammabengaluru', '#nammakarnataka', '#bangalorefood', '#bengaluru', '#bangalore', '#bangalorefood', '#bangalorefoodblogger', '#bangalorefoodies', '#bangalorefoodie', '#bangalore_diaries', '#bangalorebloggers', '#delhi', '#chennai', '#mysuru', '#delhifoodblogger', '#indianfoodbloggers', '#delhiblogger', '#mumbaiblogger', '#sobangalore', '#foodieincarnate', '#sodelhi', '#newdelhi', '#foodtalkindia', '#delhigram', '#indianfood', '#delhifoodblogger', '#foodgasm', '#foodporn', '#foodpornshare', '#foodlover', '#foodgram', '#foodiesofinstagram', '#foodie', '#indianstreetfood', '#streetfood', '#delhistreetfood', '#streetfoodindia', '#mumbaistreetfood', '#delhifoodie', '#foodblogger', '#indianfoodie', '#desikhana', '#indianfoodblogger', '#indianfoodbloggers', '#delhifood', '#mumbai', '#delhi', '#vadodara', '#namkeen', '#foodieincarnate', '#reelitfeelit', '#reelkarofeelkaro', '#reelsinstagram', '#reels', '#cheese', '#butter', '#corn', '#kolkata', '#Foodieincarnate', '#newdelhi', '#sodelhi', '#foodtalkindia', '#delhigram', '#desifood', '#rasgulla', '#bengali', '#bengalifood', '#indianfood', '#delhi', '#delhifoodblogger', '#foodism', '#delhifoodie', '#lockdown', '#foodblogger', '#delhifoodblog', '#goodfood', '#sugarcoma', '#delhifood', '#dessertfirst', '#indiansweets', '#sugarrush', '#sugarhigh', '#dessertgram', '#dessertaddict', '#dessert', '#sweettooth', '#kolkata', '#mithai', '#foodieincarnate', '#sodelhi', '#newdelhi', '#foodtalkindia', '#delhigram', '#indianfood', '#delhifoodblogger', '#foodgasm', '#foodporn', '#foodpornshare', '#foodlover', '#foodgram', '#foodiesofinstagram', '#foodie', '#indianstreetfood', '#streetfood', '#delhistreetfood', '#streetfoodindia', '#mumbaistreetfood', '#delhifoodie', '#foodblogger', '#indianfoodie', '#desikhana', '#indianfoodblogger', '#indianfoodbloggers', '#delhifood', '#mumbai', '#delhi', '#eastdelhi', '#pheni', '#foodieincarnate', '#reelitfeelit', '#reelkarofeelkaro', '#reelsinstagram', '#reels', '#gurudwara', '#sikh', '#sikhism', '#waheguru', '#langar', '#Foodieincarnate', '#Fausto', '#FaustoShoes', '#formalshoes', '#shoes', '#mensshoes', '#mensfashion', '#fashion', '#casualshoes', '#leathershoes', '#sneakers', '#mensstyle', '#loafers', '#menswear', '#menshoes', '#formalshoesformen', '#shoesaddict', '#dressshoes', '#footwear', '#shoesforsale', '#sportsshoes', '#formal', '#shoesformen', '#formalwear', '#shoestyle', '#boots', '#onlineshopping', '#style', '#leather', '#classicshoes', '#foodieincarnate', '#sodelhi', '#newdelhi', '#foodtalkindia', '#delhigram', '#indianfood', '#delhifoodblogger', '#foodgasm', '#foodporn', '#foodpornshare', '#foodlover', '#foodgram', '#foodiesofinstagram', '#foodie', '#indianstreetfood', '#streetfood', '#delhistreetfood', '#streetfoodindia', '#mumbaistreetfood', '#delhifoodie', '#foodblogger', '#indianfoodie', '#desikhana', '#indianfoodblogger', '#indianfoodbloggers', '#delhifood', '#mumbai', '#delhi', '#ahmedabad', '#dalvada', '#HotFind', '#Rakhi', '#foodtalkindia', '#foodtalk', '#rakhi', '#siblings', '#hotfinds', '#chocolates', '#cupcakes', '#gifts', '#rakhigifts', '#food', '#foodies', '#foodiesofinstagram', '#foodiesofindia', '#delhi', '#mumbai', '#bengaluru', '#pune', '#delicious', '#yummy', '#sweets', '#cookies', '#hampers', '#gifthampers', '#FoodThatIsBetterThanSex', '#Potato', '#foodtalkindia', '#foodtalk', '#foodies', '#foodiesofinstagram', '#food', '#goodfood', '#foodiesofindia', '#potato', '#potatorecipes', '#potatoes', '#lovefood', '#yummy', '#delicious', '#mashpotatoes', '#frenchfries', '#gnocchi', '#chips', '#HotFind', '#Rakhi', '#foodtalkindia', '#foodtalk', '#rakhi', '#experiences', '#hotfind', '#foodies', '#workshop', '#fnb', '#wine', '#coffee', '#chocolate', '#brunch', '#cocktails', '#siblings', '#rakshabandhan', '#foodiesofinstagram', '#foodporn', '#instafood', '#foodiesofdelhi', '#foodiesofmumbai', '#foodiesofbengaluru', '#NewInTown', '#Mumbai', '#foodtalkindia', '#foodtalk', '#mumbai', '#mumbaifoodies', '#goodfood', '#newintown', '#cafes', '#foodiesofmumbai', '#mumbaifoodlovers', '#contemporary', '#foodporn', '#yummy', '#delicious', '#restaurant', '#restaurantdesign', '#InTheKitchen', '#BeerSoakedGrilledCheese', '#foodtalkindia', '#foodtalk', '#food', '#goodfood', '#foodies', '#grilledcheese', '#sandwich', '#cheese', '#beerbattered', '#cheeselover', '#foodiesofdelhi', '#foodiesofinstagram', '#foodiesofmumbai', '#foodiesofbengaluru', '#delicious', '#yummy', '#cheesesandwich', '#HotFinds', '#BOMB💣', '#AddToCart', '#foodtalkindia', '#foodtalk', '#goodfood', '#sauce', '#hotsauce', '#foodies', '#foodie', '#delhifoodie', '#mumbaifoodie', '#bengalurufoodie', '#sauces', '#ketchup', '#chillies🌶', '#spicyfood', '#spicy', '#spice', '#yummy', '#delicious', '#GIVEAWAYALERT', '#FTIFindOfTheMonth', '#foodtalkindia', '#foodtalk', '#giveaway', '#giveawayalert', '#ftifindofthemind', '#wafflehouse', '#foodies', '#wafflelover', '#waffles', '#wafflecookies', '#delhifoodies', '#mumbaifoodies', '#bengalurufoodies', '#deliciousfood', '#yummy', '#NewInTown', '#Delhi', '#foodtalkindia', '#foodtalk', '#goodfood', '#bbq', '#newintown', '#hmanbbq', '#thepitbyhmanbbq', '#delhi', '#delhifood', '#delhifoodies', '#meat', '#meatlovers', '#bbqlife', '#deliciousfood', '#yummy', '#instafood', '#HotFind', '#AddToCart', '#foodtalkindia', '#foodtalk', '#momos', '#foodies', '#food', '#foodiesofindia', '#delicious', '#yummy', '#dimsums', '#foodlover', '#foodloversindia', '#momo', '#momoslover', '#streetfood', '#InTheKitchen', '#BananaPancakeDippers🍌', '#foodtalkindia', '#foodtalk', '#inthekitchen', '#foodies', '#foodlovers', '#pancake', '#pancakerecipes', '#bananapancakes🍌', '#delicious', '#yummy', '#food', '#snacks', '#foodiesofdelhi', '#foodiesofmumbai', '#foodiesofbengaluru', '#foodiesofindia', '#foodporn', '#foodgram']\n"
     ]
    }
   ],
   "source": [
    "print(hashtags)"
   ]
  },
  {
   "cell_type": "markdown",
   "metadata": {},
   "source": [
    "##### 2.Prepare a list of all words used in all the scraped posts and calculate the frequency of each word."
   ]
  },
  {
   "cell_type": "code",
   "execution_count": 26,
   "metadata": {},
   "outputs": [
    {
     "name": "stdout",
     "output_type": "stream",
     "text": [
      "#foodtalkindia 16\n",
      "#foodporn 15\n",
      "#streetfood 13\n",
      "#foodzeee 12\n",
      "#recipe 10\n",
      "#sanjyotkeer 10\n",
      "#yourfoodlab 10\n",
      "#foodiesofinstagram 10\n",
      "#foodtalk 10\n",
      "#indianfood 9\n",
      "#streetfoodindia 9\n",
      "#reelitfeelit 9\n",
      "#delhi 9\n",
      "#yummy 9\n",
      "#foodie 8\n",
      "#reelkarofeelkaro 8\n",
      "#foodieincarnate 8\n",
      "#foodies 8\n",
      "#dilsefoodie 7\n",
      " 7\n",
      "#delicious 7\n",
      "#foodpics 6\n",
      "#indianstreetfood 6\n",
      "#indiancuisine 6\n",
      "#food 6\n",
      "#sodelhi 6\n",
      "#newdelhi 6\n",
      "#delhigram 6\n",
      "#delhifoodblogger 6\n",
      "#delhifoodie 6\n",
      "#delhifood 6\n",
      "#mumbai 6\n",
      "#goodfood 6\n",
      "#mumbaistreetfood 5\n",
      "#paneer 5\n",
      "#reelsinstagram 5\n",
      "#reels 5\n",
      "#foodlover 5\n",
      "#foodgram 5\n",
      "#foodblogger 5\n",
      "#indianfoodbloggers 5\n",
      "#paneerrecipes 4\n",
      "#instadaily 4\n",
      "#homemade 4\n",
      "#foodgasm 4\n",
      "#foodpornshare 4\n",
      "#delhistreetfood 4\n",
      "#indianfoodie 4\n",
      "#desikhana 4\n",
      "#indianfoodblogger 4\n",
      "#foodiesofindia 4\n",
      "#foodiesofmumbai 4\n",
      "#corn 3\n",
      "#HotFind 3\n",
      "#foodiesofdelhi 3\n",
      "#foodiesofbengaluru 3\n",
      "#chaat 2\n",
      "#aloo 2\n",
      "#aloorecipes 2\n",
      "#chaatlover 2\n",
      "#chaatlove 2\n",
      "#recipes 2\n",
      "#inovation 2\n",
      "#atombomb 2\n",
      "#streetphotography 2\n",
      "#wrap 2\n",
      "#roll 2\n",
      "#paneerlover 2\n",
      "#paneerroll 2\n",
      "#crispy 2\n",
      "#sweetcorn 2\n",
      "#cornrecipe 2\n",
      "#streetfoodlover 2\n",
      "#recipeoftheday 2\n",
      "#paneertikka 2\n",
      "#paneertikkamasala 2\n",
      "#resturant 2\n",
      "#restuarantstyle 2\n",
      "#noonionnogarlic 2\n",
      "#butter 2\n",
      "#bangalorefood 2\n",
      "#bengaluru 2\n",
      "#cheese 2\n",
      "#kolkata 2\n",
      "#Foodieincarnate 2\n",
      "#Rakhi 2\n",
      "#rakhi 2\n",
      "#siblings 2\n",
      "#instafood 2\n",
      "#NewInTown 2\n",
      "#mumbaifoodies 2\n",
      "#newintown 2\n",
      "#InTheKitchen 2\n",
      "#AddToCart 2\n",
      "#delhifoodies 2\n",
      "#deliciousfood 2\n",
      "#paratha 1\n",
      "#quesadilla 1\n",
      "#quesadillas 1\n",
      "#mexicanfood 1\n",
      "#mexicanrice 1\n",
      "#mexicancuisine 1\n",
      "#mexicanfoodporn 1\n",
      "#foodphotography 1\n",
      "#streetfoodmumbai 1\n",
      "#foodstagram 1\n",
      "#indiaclicks 1\n",
      "#dilsecouple 1\n",
      "#DilSeFoodieDaVyah 1\n",
      "#kadhi 1\n",
      "#boondikadhi 1\n",
      "#shershaah 1\n",
      "#ulundhusadham 1\n",
      "#meal 1\n",
      "#neiappam 1\n",
      "#appam 1\n",
      "#onam 1\n",
      "#unniappam 1\n",
      "#palakpaneer 1\n",
      "#jewellery 1\n",
      "#antique 1\n",
      "#jhumkas 1\n",
      "#jadaujewellery 1\n",
      "#chai 1\n",
      "#tandoorichai 1\n",
      "#tea 1\n",
      "#tandooritea 1\n",
      "#cake 1\n",
      "#egglesscake 1\n",
      "#tumblercake 1\n",
      "#thogayal 1\n",
      "#rice 1\n",
      "#bassaru 1\n",
      "#palya 1\n",
      "#surat 1\n",
      "#khaja 1\n",
      "#burger 1\n",
      "#ghaziabad 1\n",
      "#dosa 1\n",
      "#dose 1\n",
      "#southindian 1\n",
      "#southindianfood 1\n",
      "#nammabangalore 1\n",
      "#nammabengaluru 1\n",
      "#nammakarnataka 1\n",
      "#bangalore 1\n",
      "#bangalorefoodblogger 1\n",
      "#bangalorefoodies 1\n",
      "#bangalorefoodie 1\n",
      "#bangalore_diaries 1\n",
      "#bangalorebloggers 1\n",
      "#chennai 1\n",
      "#mysuru 1\n",
      "#delhiblogger 1\n",
      "#mumbaiblogger 1\n",
      "#sobangalore 1\n",
      "#vadodara 1\n",
      "#namkeen 1\n",
      "#desifood 1\n",
      "#rasgulla 1\n",
      "#bengali 1\n",
      "#bengalifood 1\n",
      "#foodism 1\n",
      "#lockdown 1\n",
      "#delhifoodblog 1\n",
      "#sugarcoma 1\n",
      "#dessertfirst 1\n",
      "#indiansweets 1\n",
      "#sugarrush 1\n",
      "#sugarhigh 1\n",
      "#dessertgram 1\n",
      "#dessertaddict 1\n",
      "#dessert 1\n",
      "#sweettooth 1\n",
      "#mithai 1\n",
      "#eastdelhi 1\n",
      "#pheni 1\n",
      "#gurudwara 1\n",
      "#sikh 1\n",
      "#sikhism 1\n",
      "#waheguru 1\n",
      "#langar 1\n",
      "#Fausto 1\n",
      "#FaustoShoes 1\n",
      "#formalshoes 1\n",
      "#shoes 1\n",
      "#mensshoes 1\n",
      "#mensfashion 1\n",
      "#fashion 1\n",
      "#casualshoes 1\n",
      "#leathershoes 1\n",
      "#sneakers 1\n",
      "#mensstyle 1\n",
      "#loafers 1\n",
      "#menswear 1\n",
      "#menshoes 1\n",
      "#formalshoesformen 1\n",
      "#shoesaddict 1\n",
      "#dressshoes 1\n",
      "#footwear 1\n",
      "#shoesforsale 1\n",
      "#sportsshoes 1\n",
      "#formal 1\n",
      "#shoesformen 1\n",
      "#formalwear 1\n",
      "#shoestyle 1\n",
      "#boots 1\n",
      "#onlineshopping 1\n",
      "#style 1\n",
      "#leather 1\n",
      "#classicshoes 1\n",
      "#ahmedabad 1\n",
      "#dalvada 1\n",
      "#hotfinds 1\n",
      "#chocolates 1\n",
      "#cupcakes 1\n",
      "#gifts 1\n",
      "#rakhigifts 1\n",
      "#pune 1\n",
      "#sweets 1\n",
      "#cookies 1\n",
      "#hampers 1\n",
      "#gifthampers 1\n",
      "#FoodThatIsBetterThanSex 1\n",
      "#Potato 1\n",
      "#potato 1\n",
      "#potatorecipes 1\n",
      "#potatoes 1\n",
      "#lovefood 1\n",
      "#mashpotatoes 1\n",
      "#frenchfries 1\n",
      "#gnocchi 1\n",
      "#chips 1\n",
      "#experiences 1\n",
      "#hotfind 1\n",
      "#workshop 1\n",
      "#fnb 1\n",
      "#wine 1\n",
      "#coffee 1\n",
      "#chocolate 1\n",
      "#brunch 1\n",
      "#cocktails 1\n",
      "#rakshabandhan 1\n",
      "#Mumbai 1\n",
      "#cafes 1\n",
      "#mumbaifoodlovers 1\n",
      "#contemporary 1\n",
      "#restaurant 1\n",
      "#restaurantdesign 1\n",
      "#BeerSoakedGrilledCheese 1\n",
      "#grilledcheese 1\n",
      "#sandwich 1\n",
      "#beerbattered 1\n",
      "#cheeselover 1\n",
      "#cheesesandwich 1\n",
      "#HotFinds 1\n",
      "#BOMB💣 1\n",
      "#sauce 1\n",
      "#hotsauce 1\n",
      "#mumbaifoodie 1\n",
      "#bengalurufoodie 1\n",
      "#sauces 1\n",
      "#ketchup 1\n",
      "#chillies🌶 1\n",
      "#spicyfood 1\n",
      "#spicy 1\n",
      "#spice 1\n",
      "#GIVEAWAYALERT 1\n",
      "#FTIFindOfTheMonth 1\n",
      "#giveaway 1\n",
      "#giveawayalert 1\n",
      "#ftifindofthemind 1\n",
      "#wafflehouse 1\n",
      "#wafflelover 1\n",
      "#waffles 1\n",
      "#wafflecookies 1\n",
      "#bengalurufoodies 1\n",
      "#Delhi 1\n",
      "#bbq 1\n",
      "#hmanbbq 1\n",
      "#thepitbyhmanbbq 1\n",
      "#meat 1\n",
      "#meatlovers 1\n",
      "#bbqlife 1\n",
      "#momos 1\n",
      "#dimsums 1\n",
      "#foodloversindia 1\n",
      "#momo 1\n",
      "#momoslover 1\n",
      "#BananaPancakeDippers🍌 1\n",
      "#inthekitchen 1\n",
      "#foodlovers 1\n",
      "#pancake 1\n",
      "#pancakerecipes 1\n",
      "#bananapancakes🍌 1\n",
      "#snacks 1\n"
     ]
    }
   ],
   "source": [
    "dct = {}\n",
    "words_list = []\n",
    "for word in hashtags:\n",
    "    dct[word] = dct.get(word,0) + 1\n",
    "    \n",
    "for i in sorted(dct, key=dct.get, reverse=True):\n",
    "    words_list.append([i,dct[i]])\n",
    "    print(i,dct[i])"
   ]
  },
  {
   "cell_type": "markdown",
   "metadata": {},
   "source": [
    "##### 3.Create a csv file with two columns : the word and its frequency"
   ]
  },
  {
   "cell_type": "code",
   "execution_count": 27,
   "metadata": {},
   "outputs": [
    {
     "data": {
      "text/html": [
       "<div>\n",
       "<style scoped>\n",
       "    .dataframe tbody tr th:only-of-type {\n",
       "        vertical-align: middle;\n",
       "    }\n",
       "\n",
       "    .dataframe tbody tr th {\n",
       "        vertical-align: top;\n",
       "    }\n",
       "\n",
       "    .dataframe thead th {\n",
       "        text-align: right;\n",
       "    }\n",
       "</style>\n",
       "<table border=\"1\" class=\"dataframe\">\n",
       "  <thead>\n",
       "    <tr style=\"text-align: right;\">\n",
       "      <th></th>\n",
       "      <th>Words</th>\n",
       "      <th>Frequency</th>\n",
       "    </tr>\n",
       "  </thead>\n",
       "  <tbody>\n",
       "    <tr>\n",
       "      <th>0</th>\n",
       "      <td>#foodtalkindia</td>\n",
       "      <td>16</td>\n",
       "    </tr>\n",
       "    <tr>\n",
       "      <th>1</th>\n",
       "      <td>#foodporn</td>\n",
       "      <td>15</td>\n",
       "    </tr>\n",
       "    <tr>\n",
       "      <th>2</th>\n",
       "      <td>#streetfood</td>\n",
       "      <td>13</td>\n",
       "    </tr>\n",
       "    <tr>\n",
       "      <th>3</th>\n",
       "      <td>#foodzeee</td>\n",
       "      <td>12</td>\n",
       "    </tr>\n",
       "    <tr>\n",
       "      <th>4</th>\n",
       "      <td>#recipe</td>\n",
       "      <td>10</td>\n",
       "    </tr>\n",
       "    <tr>\n",
       "      <th>5</th>\n",
       "      <td>#sanjyotkeer</td>\n",
       "      <td>10</td>\n",
       "    </tr>\n",
       "    <tr>\n",
       "      <th>6</th>\n",
       "      <td>#yourfoodlab</td>\n",
       "      <td>10</td>\n",
       "    </tr>\n",
       "    <tr>\n",
       "      <th>7</th>\n",
       "      <td>#foodiesofinstagram</td>\n",
       "      <td>10</td>\n",
       "    </tr>\n",
       "    <tr>\n",
       "      <th>8</th>\n",
       "      <td>#foodtalk</td>\n",
       "      <td>10</td>\n",
       "    </tr>\n",
       "    <tr>\n",
       "      <th>9</th>\n",
       "      <td>#indianfood</td>\n",
       "      <td>9</td>\n",
       "    </tr>\n",
       "  </tbody>\n",
       "</table>\n",
       "</div>"
      ],
      "text/plain": [
       "                 Words  Frequency\n",
       "0       #foodtalkindia         16\n",
       "1            #foodporn         15\n",
       "2          #streetfood         13\n",
       "3            #foodzeee         12\n",
       "4              #recipe         10\n",
       "5         #sanjyotkeer         10\n",
       "6         #yourfoodlab         10\n",
       "7  #foodiesofinstagram         10\n",
       "8            #foodtalk         10\n",
       "9          #indianfood          9"
      ]
     },
     "execution_count": 27,
     "metadata": {},
     "output_type": "execute_result"
    }
   ],
   "source": [
    "df = pd.DataFrame(words_list,columns=['Words','Frequency'])\n",
    "#using .to_csv pandas function to convert dataframe to csv\n",
    "df.to_csv('words_frequency.csv',index=False)\n",
    "df.head(10)"
   ]
  },
  {
   "cell_type": "markdown",
   "metadata": {},
   "source": [
    "##### 4.Now, find the hashtags that were most popular among these bloggers"
   ]
  },
  {
   "cell_type": "code",
   "execution_count": 28,
   "metadata": {},
   "outputs": [
    {
     "name": "stdout",
     "output_type": "stream",
     "text": [
      "#foodtalkindia\n"
     ]
    }
   ],
   "source": [
    "print(words_list[0][0])"
   ]
  },
  {
   "cell_type": "markdown",
   "metadata": {},
   "source": [
    "##### 5.Plot a Pie Chart of the top 5 hashtags obtained and the number of times they were used by these bloggers in the scraped posts."
   ]
  },
  {
   "cell_type": "code",
   "execution_count": 29,
   "metadata": {},
   "outputs": [
    {
     "data": {
      "image/png": "[encoded data removed]",
      "text/plain": [
       "<Figure size 864x432 with 1 Axes>"
      ]
     },
     "metadata": {},
     "output_type": "display_data"
    }
   ],
   "source": [
    "#using answer of problem 2.2\n",
    "hashtag_name = [words_list[0][0],words_list[1][0],words_list[2][0],words_list[3][0],words_list[4][0]]\n",
    "count = [words_list[0][1],words_list[1][1],words_list[2][1],words_list[3][1],words_list[4][1]]\n",
    "plt.figure(figsize=(12,6))\n",
    "plt.pie(count,labels=hashtag_name,autopct='%0.2f%%',radius=1,counterclock=False,startangle=110)\n",
    "plt.title('Top 5 Hashtags used by bloggers ',fontsize=20, color='green',alpha=0.8)\n",
    "plt.show()"
   ]
  },
  {
   "cell_type": "code",
   "execution_count": null,
   "metadata": {},
   "outputs": [],
   "source": []
  },
  {
   "cell_type": "markdown",
   "metadata": {},
   "source": [
    "### Problem 3 : Followers : Likes ratio\n",
    "You need to also calculate average followers : likes ratio for the obtained handles.\n",
    "Followers : Likes ratio is calculated as follows:  \n",
    "1.Find out the likes of the top 10 posts of the 5 handles obtained earlier.  \n",
    "2.Calculate the average likes for a handle.  \n",
    "3.Divide the average likes obtained from the number of followers of the handle to get the average followers:like ratio of each handle.  \n",
    "4.Create a bar graph to depict the above obtained information.  "
   ]
  },
  {
   "cell_type": "markdown",
   "metadata": {},
   "source": [
    "##### 1.Find out the likes of the top 10 posts of the 5 handles obtained earlier."
   ]
  },
  {
   "cell_type": "code",
   "execution_count": 138,
   "metadata": {},
   "outputs": [],
   "source": [
    "#This function returns list of likes of 10 post of a user\n",
    "def get_likes(user):\n",
    "    try :\n",
    "            likes = []\n",
    "            #This function will search a user and open that profile\n",
    "            search_open_profile(user)\n",
    "            time.sleep(2)\n",
    "            #just for scrolling\n",
    "            driver.execute_script('window.scrollTo(0, 3000);')\n",
    "            time.sleep(2)\n",
    "            driver.execute_script('window.scrollTo(0, -3000);')\n",
    "            time.sleep(2)\n",
    "            #locating the post of the user\n",
    "            posts = driver.find_elements_by_class_name('v1Nh3')\n",
    "            for post in posts[0:10]:\n",
    "                post.click()\n",
    "                time.sleep(2)\n",
    "                try :\n",
    "                    #for getting like on video we need to first click on view then only we can like\n",
    "                    views = wait.until(EC.presence_of_element_located((By.CLASS_NAME,'vcOH2')))\n",
    "                    views.click()\n",
    "                    time.sleep(1)\n",
    "                    \n",
    "                    #locating like and clicking on it\n",
    "                    like = driver.find_element_by_xpath(\"//div[contains(@class, 'HbPOm')]//span[contains(@class, 'vcOH2')]/span\")\n",
    "                    no_of_likes = (like.text).replace(',' , '')\n",
    "                    likes.append(int(no_of_likes))\n",
    "                    time.sleep(1)\n",
    "                    #just clicking one body to get original post back\n",
    "                    driver.find_element_by_xpath(\"//div[contains(@class, 'eo2As')]\").click()  \n",
    "                    \n",
    "                #if the post is image then this part will execute \n",
    "                except TimeoutException :\n",
    "                    \n",
    "                    like = driver.find_element_by_xpath(\"//div[contains(@class, 'Nm9Fw')]//a[contains(@class, 'zV_Nj')]/span\")\n",
    "                    no_of_likes = (like.text).replace(',' , '')\n",
    "                    likes.append(int(no_of_likes))\n",
    "                    time.sleep(1)\n",
    "                #locating close button and clicking on it\n",
    "                close=driver.find_element_by_xpath(\"//div[contains(@class, 'Igw0E')]//button[contains(@class, 'wpO6b')]\")\n",
    "                time.sleep(1)\n",
    "                close.click()\n",
    "                                \n",
    "            return likes\n",
    "    \n",
    "    except TimeoutException :\n",
    "        print (\"Something went wrong! Try Again\")\n",
    "        \n",
    "    "
   ]
  },
  {
   "cell_type": "code",
   "execution_count": 141,
   "metadata": {},
   "outputs": [
    {
     "name": "stdout",
     "output_type": "stream",
     "text": [
      "Number of likes of the top 10 posts of yourfoodlab :\n",
      "25754 Likes\n",
      "199452 Likes\n",
      "30102 Likes\n",
      "252789 Likes\n",
      "27963 Likes\n",
      "29944 Likes\n",
      "529503 Likes\n",
      "31777 Likes\n",
      "244603 Likes\n",
      "29604 Likes\n",
      "\n",
      "Number of likes of the top 10 posts of dilsefoodie :\n",
      "3634 Likes\n",
      "27498 Likes\n",
      "32762 Likes\n",
      "11947 Likes\n",
      "27770 Likes\n",
      "227612 Likes\n",
      "243692 Likes\n",
      "17921 Likes\n",
      "34748 Likes\n",
      "38010 Likes\n",
      "\n",
      "Number of likes of the top 10 posts of foodzeee :\n",
      "31699 Likes\n",
      "18963 Likes\n",
      "42424 Likes\n",
      "52050 Likes\n",
      "339356 Likes\n",
      "35504 Likes\n",
      "31153 Likes\n",
      "28243 Likes\n",
      "17888 Likes\n",
      "25232 Likes\n",
      "\n",
      "Number of likes of the top 10 posts of foodie_incarnate :\n",
      "195480 Likes\n",
      "32787 Likes\n",
      "42471 Likes\n",
      "606164 Likes\n",
      "62310 Likes\n",
      "17606 Likes\n",
      "529936 Likes\n",
      "90769 Likes\n",
      "30580 Likes\n",
      "563599 Likes\n",
      "\n",
      "Number of likes of the top 10 posts of foodtalkindia :\n",
      "238 Likes\n",
      "870 Likes\n",
      "178 Likes\n",
      "901 Likes\n",
      "8330 Likes\n",
      "572 Likes\n",
      "586 Likes\n",
      "1092 Likes\n",
      "1136 Likes\n",
      "5865 Likes\n",
      "\n"
     ]
    }
   ],
   "source": [
    "#dct will store username with list of likes\n",
    "dct = {}\n",
    "for user in handles :\n",
    "    driver.get('https://www.instagram.com/')\n",
    "    likes = get_likes(user)\n",
    "    dct[user] = likes\n",
    "    print('Number of likes of the top 10 posts of',user,':')\n",
    "    for i in likes :\n",
    "        print(i,'Likes')\n",
    "    print()"
   ]
  },
  {
   "cell_type": "markdown",
   "metadata": {},
   "source": [
    "##### 2.Calculate the average likes for a handle."
   ]
  },
  {
   "cell_type": "code",
   "execution_count": 142,
   "metadata": {},
   "outputs": [],
   "source": [
    "#This function will return a dictionary of {'username':average like}\n",
    "def get_avg_likes(d):\n",
    "    avg_likes = {}\n",
    "    for key,val in d.items():\n",
    "            avg = sum(val) // 10\n",
    "            avg_likes[key] = avg\n",
    "    return avg_likes"
   ]
  },
  {
   "cell_type": "code",
   "execution_count": 143,
   "metadata": {},
   "outputs": [
    {
     "name": "stdout",
     "output_type": "stream",
     "text": [
      "Average likes for each handle are :\n",
      "yourfoodlab : 140149\n",
      "dilsefoodie : 66559\n",
      "foodzeee : 62251\n",
      "foodie_incarnate : 217170\n",
      "foodtalkindia : 1976\n"
     ]
    }
   ],
   "source": [
    "avg_likes = get_avg_likes(dct)\n",
    "\n",
    "print('Average likes for each handle are :')\n",
    "for user,likes in avg_likes.items():\n",
    "    print(user, ':', likes)"
   ]
  },
  {
   "cell_type": "markdown",
   "metadata": {},
   "source": [
    "##### 3.Divide the average likes obtained from the number of followers of the handle to get the average followers:like ratio of each handle."
   ]
  },
  {
   "cell_type": "code",
   "execution_count": 144,
   "metadata": {},
   "outputs": [],
   "source": [
    "#This function will return dictionary of {'username':avg followers-like ratio}\n",
    "def getavg_foll_like_ratio(top_handles,avg_like,users):\n",
    "    foll_like = {}\n",
    "    for i in range(5) :\n",
    "        foll_like[users[i]] = top_handles[users[i]]//avg_like[users[i]]\n",
    "    return foll_like"
   ]
  },
  {
   "cell_type": "code",
   "execution_count": 145,
   "metadata": {},
   "outputs": [
    {
     "name": "stdout",
     "output_type": "stream",
     "text": [
      "Average followers:like ratio of each handle :\n",
      "yourfoodlab : 12\n",
      "dilsefoodie : 12\n",
      "foodzeee : 12\n",
      "foodie_incarnate : 2\n",
      "foodtalkindia : 154\n"
     ]
    }
   ],
   "source": [
    "#here I am using the answer of problem 1.1 which contains a dictionary of {'username':followers} ie top_handles\n",
    "#extracing username from top_handles\n",
    "top_handles_names = list(top_handles.keys())\n",
    "#now calling function getavg_foll_like_ratio(top_handles,avg_like,users) \n",
    "avg_fol_like_ratio = getavg_foll_like_ratio(top_handles, avg_likes, top_handles_names)\n",
    "print('Average followers:like ratio of each handle :')\n",
    "for user,ratio in avg_fol_like_ratio.items():\n",
    "    print(user, ':', ratio)"
   ]
  },
  {
   "cell_type": "markdown",
   "metadata": {},
   "source": [
    "##### 4.Create a bar graph to depict the above obtained information."
   ]
  },
  {
   "cell_type": "code",
   "execution_count": 146,
   "metadata": {},
   "outputs": [],
   "source": [
    "#Plotting Bar Graph for average likes of each handle"
   ]
  },
  {
   "cell_type": "code",
   "execution_count": 147,
   "metadata": {},
   "outputs": [
    {
     "data": {
      "image/png": "[encoded data removed]",
      "text/plain": [
       "<Figure size 432x288 with 1 Axes>"
      ]
     },
     "metadata": {
      "needs_background": "light"
     },
     "output_type": "display_data"
    }
   ],
   "source": [
    "#for this I will use answer of problem 3.2 \n",
    "username = list(avg_likes.keys())\n",
    "avg_like = list(avg_likes.values())\n",
    "\n",
    "plt.bar(username,avg_like,color='g',alpha=0.6)\n",
    "plt.ylabel(\"Average Likes\",size=15)\n",
    "plt.xlabel(\"Handle's Name\",size=15)\n",
    "plt.title('Average like for each handle ',fontsize=20, color='green',alpha=0.8)\n",
    "plt.grid()\n",
    "plt.show()"
   ]
  },
  {
   "cell_type": "code",
   "execution_count": 148,
   "metadata": {},
   "outputs": [],
   "source": [
    "# Plotting Bar Graph for average followers:like ratio of each handle"
   ]
  },
  {
   "cell_type": "code",
   "execution_count": 149,
   "metadata": {},
   "outputs": [
    {
     "data": {
      "image/png": "[encoded data removed]",
      "text/plain": [
       "<Figure size 432x288 with 1 Axes>"
      ]
     },
     "metadata": {
      "needs_background": "light"
     },
     "output_type": "display_data"
    }
   ],
   "source": [
    "#For this I will use answer of problem 3.3\n",
    "username = list(avg_fol_like_ratio.keys())\n",
    "avg_like = list(avg_fol_like_ratio.values())\n",
    "\n",
    "plt.bar(username,avg_like,color='Indigo',alpha=0.6)\n",
    "plt.ylabel(\"Average Followers:Like Ratio\",size=12)\n",
    "plt.xlabel(\"Handle's Name\",size=12)\n",
    "plt.title('Average Followers:Like Ratio of Each Handle ',fontsize=20, color='Indigo',alpha=0.8)\n",
    "plt.grid()\n",
    "plt.show()"
   ]
  },
  {
   "cell_type": "code",
   "execution_count": null,
   "metadata": {},
   "outputs": [],
   "source": []
  }
 ],
 "metadata": {
  "kernelspec": {
   "display_name": "Python 3",
   "language": "python",
   "name": "python3"
  },
  "language_info": {
   "codemirror_mode": {
    "name": "ipython",
    "version": 3
   },
   "file_extension": ".py",
   "mimetype": "text/x-python",
   "name": "python",
   "nbconvert_exporter": "python",
   "pygments_lexer": "ipython3",
   "version": "3.7.6"
  }
 },
 "nbformat": 4,
 "nbformat_minor": 2
}
